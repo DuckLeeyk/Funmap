{
 "cells": [
  {
   "cell_type": "code",
   "execution_count": 10,
   "outputs": [],
   "source": [
    "import numpy as np\n",
    "import pandas as pd\n",
    "from funmap import FUNMAP\n",
    "from funmap import Manhattan_plot"
   ],
   "metadata": {
    "collapsed": false
   }
  },
  {
   "cell_type": "code",
   "execution_count": 11,
   "outputs": [],
   "source": [
    "np.set_printoptions(threshold=1e8)"
   ],
   "metadata": {
    "collapsed": false
   }
  },
  {
   "cell_type": "code",
   "execution_count": 12,
   "outputs": [
    {
     "data": {
      "text/plain": "            0         1\n0   rs1124048 -0.728700\n1  rs10494829 -0.772893\n2   rs4915210  2.747186\n3   rs3198583  2.704427\n4  rs56368827 -0.916975",
      "text/html": "<div>\n<style scoped>\n    .dataframe tbody tr th:only-of-type {\n        vertical-align: middle;\n    }\n\n    .dataframe tbody tr th {\n        vertical-align: top;\n    }\n\n    .dataframe thead th {\n        text-align: right;\n    }\n</style>\n<table border=\"1\" class=\"dataframe\">\n  <thead>\n    <tr style=\"text-align: right;\">\n      <th></th>\n      <th>0</th>\n      <th>1</th>\n    </tr>\n  </thead>\n  <tbody>\n    <tr>\n      <th>0</th>\n      <td>rs1124048</td>\n      <td>-0.728700</td>\n    </tr>\n    <tr>\n      <th>1</th>\n      <td>rs10494829</td>\n      <td>-0.772893</td>\n    </tr>\n    <tr>\n      <th>2</th>\n      <td>rs4915210</td>\n      <td>2.747186</td>\n    </tr>\n    <tr>\n      <th>3</th>\n      <td>rs3198583</td>\n      <td>2.704427</td>\n    </tr>\n    <tr>\n      <th>4</th>\n      <td>rs56368827</td>\n      <td>-0.916975</td>\n    </tr>\n  </tbody>\n</table>\n</div>"
     },
     "execution_count": 12,
     "metadata": {},
     "output_type": "execute_result"
    }
   ],
   "source": [
    "z = pd.read_csv(\"data/zscore.txt\", header=None, sep='\\t')\n",
    "z.head(5)"
   ],
   "metadata": {
    "collapsed": false
   }
  },
  {
   "cell_type": "code",
   "execution_count": 13,
   "outputs": [
    {
     "data": {
      "text/plain": "          0         1         2         3         4\n0  1.000000  0.998869 -0.267510 -0.263831  0.995418\n1  0.998869  1.000000 -0.267259 -0.263581  0.996549\n2 -0.267510 -0.267259  1.000000  0.980754 -0.266515\n3 -0.263831 -0.263581  0.980754  1.000000 -0.262524\n4  0.995418  0.996549 -0.266515 -0.262524  1.000000",
      "text/html": "<div>\n<style scoped>\n    .dataframe tbody tr th:only-of-type {\n        vertical-align: middle;\n    }\n\n    .dataframe tbody tr th {\n        vertical-align: top;\n    }\n\n    .dataframe thead th {\n        text-align: right;\n    }\n</style>\n<table border=\"1\" class=\"dataframe\">\n  <thead>\n    <tr style=\"text-align: right;\">\n      <th></th>\n      <th>0</th>\n      <th>1</th>\n      <th>2</th>\n      <th>3</th>\n      <th>4</th>\n    </tr>\n  </thead>\n  <tbody>\n    <tr>\n      <th>0</th>\n      <td>1.000000</td>\n      <td>0.998869</td>\n      <td>-0.267510</td>\n      <td>-0.263831</td>\n      <td>0.995418</td>\n    </tr>\n    <tr>\n      <th>1</th>\n      <td>0.998869</td>\n      <td>1.000000</td>\n      <td>-0.267259</td>\n      <td>-0.263581</td>\n      <td>0.996549</td>\n    </tr>\n    <tr>\n      <th>2</th>\n      <td>-0.267510</td>\n      <td>-0.267259</td>\n      <td>1.000000</td>\n      <td>0.980754</td>\n      <td>-0.266515</td>\n    </tr>\n    <tr>\n      <th>3</th>\n      <td>-0.263831</td>\n      <td>-0.263581</td>\n      <td>0.980754</td>\n      <td>1.000000</td>\n      <td>-0.262524</td>\n    </tr>\n    <tr>\n      <th>4</th>\n      <td>0.995418</td>\n      <td>0.996549</td>\n      <td>-0.266515</td>\n      <td>-0.262524</td>\n      <td>1.000000</td>\n    </tr>\n  </tbody>\n</table>\n</div>"
     },
     "execution_count": 13,
     "metadata": {},
     "output_type": "execute_result"
    }
   ],
   "source": [
    "R = pd.read_csv('data/ld.txt', sep='\\s+', header=None)\n",
    "R.iloc[:5, :5]"
   ],
   "metadata": {
    "collapsed": false
   }
  },
  {
   "cell_type": "code",
   "execution_count": 14,
   "outputs": [
    {
     "data": {
      "text/plain": "          SNP        X1        X2        X3        X4        X5        X6  \\\n0   rs1124048 -1.015009 -0.397398 -0.861189 -0.665162 -0.458874  0.770120   \n1  rs10494829 -0.079637  0.950920 -0.286397  0.069134  0.080210 -1.822247   \n2   rs4915210 -0.232987 -1.158921 -0.760091 -0.781941 -1.690010  1.200017   \n3   rs3198583 -0.817268 -0.409896  0.464726 -0.736458 -0.820459  0.358393   \n4  rs56368827  0.772091 -0.729730 -0.956874  1.299890 -0.717551 -0.754523   \n\n         X7        X8        X9  ...       X91       X92       X93       X94  \\\n0 -0.700742 -1.229707 -0.660256  ...  0.498786 -0.342370 -0.958272 -0.112156   \n1 -0.752357 -0.141860  0.601044  ... -1.155107 -1.577163 -0.600411 -1.731071   \n2 -1.055643  0.339705  0.548992  ... -1.856934 -1.504893 -0.662019  0.937614   \n3 -1.738217 -0.045861  0.240303  ... -2.382487 -0.778854 -0.590114  0.351036   \n4 -1.502169  0.446605 -0.012163  ...  0.534256 -1.567050  1.133041 -0.624416   \n\n        X95       X96       X97       X98       X99      X100  \n0  0.583964 -0.167801  0.961731 -0.202662 -1.092287 -2.095381  \n1  0.044429 -0.158960  0.046327 -0.498551  0.298087 -0.997278  \n2 -0.789089 -1.062347  1.167795 -1.223538  0.892665 -1.790346  \n3 -0.736047 -0.364375  1.075612 -0.189502  0.927523  1.030756  \n4  0.602411 -1.079723 -0.497484  0.362869 -1.055744  0.293451  \n\n[5 rows x 101 columns]",
      "text/html": "<div>\n<style scoped>\n    .dataframe tbody tr th:only-of-type {\n        vertical-align: middle;\n    }\n\n    .dataframe tbody tr th {\n        vertical-align: top;\n    }\n\n    .dataframe thead th {\n        text-align: right;\n    }\n</style>\n<table border=\"1\" class=\"dataframe\">\n  <thead>\n    <tr style=\"text-align: right;\">\n      <th></th>\n      <th>SNP</th>\n      <th>X1</th>\n      <th>X2</th>\n      <th>X3</th>\n      <th>X4</th>\n      <th>X5</th>\n      <th>X6</th>\n      <th>X7</th>\n      <th>X8</th>\n      <th>X9</th>\n      <th>...</th>\n      <th>X91</th>\n      <th>X92</th>\n      <th>X93</th>\n      <th>X94</th>\n      <th>X95</th>\n      <th>X96</th>\n      <th>X97</th>\n      <th>X98</th>\n      <th>X99</th>\n      <th>X100</th>\n    </tr>\n  </thead>\n  <tbody>\n    <tr>\n      <th>0</th>\n      <td>rs1124048</td>\n      <td>-1.015009</td>\n      <td>-0.397398</td>\n      <td>-0.861189</td>\n      <td>-0.665162</td>\n      <td>-0.458874</td>\n      <td>0.770120</td>\n      <td>-0.700742</td>\n      <td>-1.229707</td>\n      <td>-0.660256</td>\n      <td>...</td>\n      <td>0.498786</td>\n      <td>-0.342370</td>\n      <td>-0.958272</td>\n      <td>-0.112156</td>\n      <td>0.583964</td>\n      <td>-0.167801</td>\n      <td>0.961731</td>\n      <td>-0.202662</td>\n      <td>-1.092287</td>\n      <td>-2.095381</td>\n    </tr>\n    <tr>\n      <th>1</th>\n      <td>rs10494829</td>\n      <td>-0.079637</td>\n      <td>0.950920</td>\n      <td>-0.286397</td>\n      <td>0.069134</td>\n      <td>0.080210</td>\n      <td>-1.822247</td>\n      <td>-0.752357</td>\n      <td>-0.141860</td>\n      <td>0.601044</td>\n      <td>...</td>\n      <td>-1.155107</td>\n      <td>-1.577163</td>\n      <td>-0.600411</td>\n      <td>-1.731071</td>\n      <td>0.044429</td>\n      <td>-0.158960</td>\n      <td>0.046327</td>\n      <td>-0.498551</td>\n      <td>0.298087</td>\n      <td>-0.997278</td>\n    </tr>\n    <tr>\n      <th>2</th>\n      <td>rs4915210</td>\n      <td>-0.232987</td>\n      <td>-1.158921</td>\n      <td>-0.760091</td>\n      <td>-0.781941</td>\n      <td>-1.690010</td>\n      <td>1.200017</td>\n      <td>-1.055643</td>\n      <td>0.339705</td>\n      <td>0.548992</td>\n      <td>...</td>\n      <td>-1.856934</td>\n      <td>-1.504893</td>\n      <td>-0.662019</td>\n      <td>0.937614</td>\n      <td>-0.789089</td>\n      <td>-1.062347</td>\n      <td>1.167795</td>\n      <td>-1.223538</td>\n      <td>0.892665</td>\n      <td>-1.790346</td>\n    </tr>\n    <tr>\n      <th>3</th>\n      <td>rs3198583</td>\n      <td>-0.817268</td>\n      <td>-0.409896</td>\n      <td>0.464726</td>\n      <td>-0.736458</td>\n      <td>-0.820459</td>\n      <td>0.358393</td>\n      <td>-1.738217</td>\n      <td>-0.045861</td>\n      <td>0.240303</td>\n      <td>...</td>\n      <td>-2.382487</td>\n      <td>-0.778854</td>\n      <td>-0.590114</td>\n      <td>0.351036</td>\n      <td>-0.736047</td>\n      <td>-0.364375</td>\n      <td>1.075612</td>\n      <td>-0.189502</td>\n      <td>0.927523</td>\n      <td>1.030756</td>\n    </tr>\n    <tr>\n      <th>4</th>\n      <td>rs56368827</td>\n      <td>0.772091</td>\n      <td>-0.729730</td>\n      <td>-0.956874</td>\n      <td>1.299890</td>\n      <td>-0.717551</td>\n      <td>-0.754523</td>\n      <td>-1.502169</td>\n      <td>0.446605</td>\n      <td>-0.012163</td>\n      <td>...</td>\n      <td>0.534256</td>\n      <td>-1.567050</td>\n      <td>1.133041</td>\n      <td>-0.624416</td>\n      <td>0.602411</td>\n      <td>-1.079723</td>\n      <td>-0.497484</td>\n      <td>0.362869</td>\n      <td>-1.055744</td>\n      <td>0.293451</td>\n    </tr>\n  </tbody>\n</table>\n<p>5 rows × 101 columns</p>\n</div>"
     },
     "execution_count": 14,
     "metadata": {},
     "output_type": "execute_result"
    }
   ],
   "source": [
    "A = pd.read_csv(\"data/anno.txt\", sep='\\t')\n",
    "A.head(5)"
   ],
   "metadata": {
    "collapsed": false
   }
  },
  {
   "cell_type": "code",
   "execution_count": 15,
   "outputs": [],
   "source": [
    "R = R.values\n",
    "A = A.values[:, 1:].astype(float)\n",
    "snp_name = z.values[:, 0]\n",
    "z = z.values[:, 1]"
   ],
   "metadata": {
    "collapsed": false
   }
  },
  {
   "cell_type": "code",
   "execution_count": 16,
   "outputs": [
    {
     "name": "stdout",
     "output_type": "stream",
     "text": [
      "ELBO = -70861.72186298986 Diff = inf\n",
      "ELBO = -70861.72091093283 Diff = 0.0009520570310996845\n",
      "Stage1 finished, iterations=1\n",
      "ELBO = -71280.82312055456 Diff = inf\n",
      "ELBO = -71098.77890981466 Diff = 182.04421073989943\n",
      "ELBO = -71039.13600476488 Diff = 59.64290504978271\n",
      "ELBO = -71009.74572185526 Diff = 29.39028290961869\n",
      "ELBO = -70992.60411909364 Diff = 17.14160276162147\n",
      "ELBO = -70981.42425985096 Diff = 11.179859242678504\n",
      "ELBO = -70973.58662066094 Diff = 7.837639190023765\n",
      "ELBO = -70967.8131650069 Diff = 5.773455654038116\n",
      "ELBO = -70963.40096931263 Diff = 4.41219569426903\n",
      "ELBO = -70959.92911537772 Diff = 3.4718539349123603\n",
      "Stage2 finished, iterations=9\n",
      "ELBO = -70957.12958390363 Diff = inf\n",
      "ELBO = -70954.82357098797 Diff = 2.306012915665633\n",
      "Stage3 finished, iterations=1\n"
     ]
    }
   ],
   "source": [
    "result = FUNMAP(z, R, A, n=50000, L=10)"
   ],
   "metadata": {
    "collapsed": false
   }
  },
  {
   "cell_type": "code",
   "execution_count": 17,
   "outputs": [],
   "source": [
    "s_result = pd.DataFrame({'SNP': snp_name, 'PIP': result.pip})\n",
    "s_result.to_csv('result/PIP.csv', header=None, index=False)"
   ],
   "metadata": {
    "collapsed": false
   }
  },
  {
   "cell_type": "code",
   "execution_count": 18,
   "outputs": [],
   "source": [
    "file = open('result/sets.txt', \"w\")\n",
    "file.write(str(result.sets))\n",
    "file.close()"
   ],
   "metadata": {
    "collapsed": false
   }
  },
  {
   "cell_type": "code",
   "execution_count": 19,
   "outputs": [
    {
     "data": {
      "text/plain": "<Figure size 640x480 with 1 Axes>",
      "image/png": "[encoded data removed]"
     },
     "metadata": {},
     "output_type": "display_data"
    }
   ],
   "source": [
    "Manhattan_plot(PIP=result.pip, sets=result.sets['cs'], pos=None)"
   ],
   "metadata": {
    "collapsed": false
   }
  },
  {
   "cell_type": "code",
   "execution_count": 19,
   "outputs": [],
   "source": [],
   "metadata": {
    "collapsed": false
   }
  }
 ],
 "metadata": {
  "kernelspec": {
   "display_name": "Python 3",
   "language": "python",
   "name": "python3"
  },
  "language_info": {
   "codemirror_mode": {
    "name": "ipython",
    "version": 2
   },
   "file_extension": ".py",
   "mimetype": "text/x-python",
   "name": "python",
   "nbconvert_exporter": "python",
   "pygments_lexer": "ipython2",
   "version": "2.7.6"
  }
 },
 "nbformat": 4,
 "nbformat_minor": 0
}
